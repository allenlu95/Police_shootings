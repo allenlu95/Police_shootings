{
 "cells": [
  {
   "cell_type": "code",
   "execution_count": 2,
   "metadata": {
    "collapsed": true
   },
   "outputs": [],
   "source": [
    "import pandas as pd\n",
    "import numpy as np\n",
    "import matplotlib.pyplot as plt"
   ]
  },
  {
   "cell_type": "code",
   "execution_count": 3,
   "metadata": {
    "collapsed": true
   },
   "outputs": [],
   "source": [
    "import pandas as pd\n",
    "police_killings = pd.read_csv(\"police_killings.csv\", encoding=\"ISO-8859-1\")\n"
   ]
  },
  {
   "cell_type": "code",
   "execution_count": 4,
   "metadata": {
    "collapsed": false
   },
   "outputs": [],
   "source": [
    "count = police_killings[\"raceethnicity\"].value_counts()"
   ]
  },
  {
   "cell_type": "code",
   "execution_count": 5,
   "metadata": {
    "collapsed": false
   },
   "outputs": [
    {
     "data": {
      "text/plain": [
       "([<matplotlib.axis.XTick at 0x10b41ec50>,\n",
       "  <matplotlib.axis.XTick at 0x10b4bc050>,\n",
       "  <matplotlib.axis.XTick at 0x10b41ec90>,\n",
       "  <matplotlib.axis.XTick at 0x10b644750>,\n",
       "  <matplotlib.axis.XTick at 0x10b644e90>,\n",
       "  <matplotlib.axis.XTick at 0x10b654610>],\n",
       " <a list of 6 Text xticklabel objects>)"
      ]
     },
     "execution_count": 5,
     "metadata": {},
     "output_type": "execute_result"
    },
    {
     "data": {
      "image/png": "[encoded data removed]",
      "text/plain": [
       "<matplotlib.figure.Figure at 0x10b41ef90>"
      ]
     },
     "metadata": {},
     "output_type": "display_data"
    }
   ],
   "source": [
    "%matplotlib inline\n",
    "\n",
    "plt.bar(range(6), count)\n",
    "plt.xticks(range(6), count.index, rotation=\"vertical\")\n"
   ]
  },
  {
   "cell_type": "code",
   "execution_count": 6,
   "metadata": {
    "collapsed": false
   },
   "outputs": [],
   "source": [
    "avg = count/sum(count)"
   ]
  },
  {
   "cell_type": "code",
   "execution_count": 7,
   "metadata": {
    "collapsed": false
   },
   "outputs": [
    {
     "data": {
      "text/plain": [
       "([<matplotlib.axis.XTick at 0x10b700d10>,\n",
       "  <matplotlib.axis.XTick at 0x10b700050>,\n",
       "  <matplotlib.axis.XTick at 0x10b65f090>,\n",
       "  <matplotlib.axis.XTick at 0x10b740f90>,\n",
       "  <matplotlib.axis.XTick at 0x10b7c6710>,\n",
       "  <matplotlib.axis.XTick at 0x10b7c6e50>],\n",
       " <a list of 6 Text xticklabel objects>)"
      ]
     },
     "execution_count": 7,
     "metadata": {},
     "output_type": "execute_result"
    },
    {
     "data": {
      "image/png": "[encoded data removed]",
      "text/plain": [
       "<matplotlib.figure.Figure at 0x10778f5d0>"
      ]
     },
     "metadata": {},
     "output_type": "display_data"
    }
   ],
   "source": [
    "%matplotlib inline\n",
    "\n",
    "plt.bar(range(6), avg)\n",
    "plt.xticks(range(6), avg.index, rotation=\"vertical\")\n"
   ]
  },
  {
   "cell_type": "markdown",
   "metadata": {},
   "source": [
    "Percentage of total who get killed by police"
   ]
  },
  {
   "cell_type": "code",
   "execution_count": 8,
   "metadata": {
    "collapsed": false
   },
   "outputs": [],
   "source": [
    "USpop = [.63,.132,.14,.028,.06,.01]\n",
    "         "
   ]
  },
  {
   "cell_type": "code",
   "execution_count": 9,
   "metadata": {
    "collapsed": false
   },
   "outputs": [],
   "source": [
    "proportion = avg\n",
    "for i in range(len(avg)):\n",
    "    proportion[i] = proportion[i]/USpop[i]"
   ]
  },
  {
   "cell_type": "markdown",
   "metadata": {},
   "source": [
    "by having [\"p_income\"] come first, we are now in that column, with second part we clean\n"
   ]
  },
  {
   "cell_type": "code",
   "execution_count": 10,
   "metadata": {
    "collapsed": false
   },
   "outputs": [
    {
     "data": {
      "text/plain": [
       "White                     0.802148\n",
       "Black                     2.189994\n",
       "Hispanic/Latino           1.024778\n",
       "Unknown                   1.147140\n",
       "Asian/Pacific Islander    0.356888\n",
       "Native American           0.856531\n",
       "Name: raceethnicity, dtype: float64"
      ]
     },
     "execution_count": 10,
     "metadata": {},
     "output_type": "execute_result"
    }
   ],
   "source": [
    "proportion"
   ]
  },
  {
   "cell_type": "code",
   "execution_count": 11,
   "metadata": {
    "collapsed": false
   },
   "outputs": [
    {
     "data": {
      "text/plain": [
       "([<matplotlib.axis.XTick at 0x10b731d50>,\n",
       "  <matplotlib.axis.XTick at 0x10b654310>,\n",
       "  <matplotlib.axis.XTick at 0x10b4c7210>,\n",
       "  <matplotlib.axis.XTick at 0x10ba5d590>,\n",
       "  <matplotlib.axis.XTick at 0x10ba5dcd0>,\n",
       "  <matplotlib.axis.XTick at 0x10ba67450>],\n",
       " <a list of 6 Text xticklabel objects>)"
      ]
     },
     "execution_count": 11,
     "metadata": {},
     "output_type": "execute_result"
    },
    {
     "data": {
      "image/png": "[encoded data removed]",
      "text/plain": [
       "<matplotlib.figure.Figure at 0x10b4c70d0>"
      ]
     },
     "metadata": {},
     "output_type": "display_data"
    }
   ],
   "source": [
    "%matplotlib inline\n",
    "\n",
    "plt.bar(range(6), proportion)\n",
    "plt.xticks(range(6), proportion.index, rotation=\"vertical\")\n"
   ]
  },
  {
   "cell_type": "markdown",
   "metadata": {},
   "source": [
    "Ratio of race killed compared to population percentage"
   ]
  },
  {
   "cell_type": "code",
   "execution_count": 12,
   "metadata": {
    "collapsed": false
   },
   "outputs": [],
   "source": [
    "income = police_killings[\"p_income\"][police_killings[\"p_income\"] != \"-\"]\n"
   ]
  },
  {
   "cell_type": "code",
   "execution_count": 13,
   "metadata": {
    "collapsed": false
   },
   "outputs": [
    {
     "data": {
      "text/plain": [
       "(array([  25.,  179.,  152.,   73.,   26.,    6.,    2.,    1.,    0.,    1.]),\n",
       " array([  5457. ,  13513.6,  21570.2,  29626.8,  37683.4,  45740. ,\n",
       "         53796.6,  61853.2,  69909.8,  77966.4,  86023. ]),\n",
       " <a list of 10 Patch objects>)"
      ]
     },
     "execution_count": 13,
     "metadata": {},
     "output_type": "execute_result"
    },
    {
     "data": {
      "image/png": "[encoded data removed]",
      "text/plain": [
       "<matplotlib.figure.Figure at 0x10ba7d3d0>"
      ]
     },
     "metadata": {},
     "output_type": "display_data"
    }
   ],
   "source": [
    "plt.hist(income.astype(int))"
   ]
  },
  {
   "cell_type": "markdown",
   "metadata": {},
   "source": [
    "Income is based on the area of death, not where person is from"
   ]
  },
  {
   "cell_type": "code",
   "execution_count": 14,
   "metadata": {
    "collapsed": false
   },
   "outputs": [],
   "source": [
    "state_pop = pd.read_csv(\"statepopulation.csv\")"
   ]
  },
  {
   "cell_type": "code",
   "execution_count": 15,
   "metadata": {
    "collapsed": false
   },
   "outputs": [],
   "source": [
    "counts = police_killings[\"state_fp\"].value_counts()"
   ]
  },
  {
   "cell_type": "code",
   "execution_count": 16,
   "metadata": {
    "collapsed": true
   },
   "outputs": [],
   "source": [
    "states = pd.DataFrame({\"STATE\": counts.index,\"shootings\":counts})"
   ]
  },
  {
   "cell_type": "code",
   "execution_count": 17,
   "metadata": {
    "collapsed": false
   },
   "outputs": [],
   "source": [
    "states = pd.merge(state_pop,states,on = \"STATE\")"
   ]
  },
  {
   "cell_type": "code",
   "execution_count": 18,
   "metadata": {
    "collapsed": false
   },
   "outputs": [],
   "source": [
    "states['pop_million'] = states['POPESTIMATE2015']/1000000"
   ]
  },
  {
   "cell_type": "code",
   "execution_count": 19,
   "metadata": {
    "collapsed": true
   },
   "outputs": [],
   "source": [
    "states['rate'] = states['shootings']/states['pop_million']"
   ]
  },
  {
   "cell_type": "code",
   "execution_count": 20,
   "metadata": {
    "collapsed": false
   },
   "outputs": [
    {
     "name": "stderr",
     "output_type": "stream",
     "text": [
      "/Users/allenlu/anaconda/lib/python2.7/site-packages/ipykernel/__main__.py:2: FutureWarning: sort(columns=....) is deprecated, use sort_values(by=.....)\n",
      "  from ipykernel import kernelapp as app\n"
     ]
    },
    {
     "data": {
      "text/html": [
       "<div>\n",
       "<table border=\"1\" class=\"dataframe\">\n",
       "  <thead>\n",
       "    <tr style=\"text-align: right;\">\n",
       "      <th></th>\n",
       "      <th>SUMLEV</th>\n",
       "      <th>REGION</th>\n",
       "      <th>DIVISION</th>\n",
       "      <th>STATE</th>\n",
       "      <th>NAME</th>\n",
       "      <th>POPESTIMATE2015</th>\n",
       "      <th>POPEST18PLUS2015</th>\n",
       "      <th>PCNT_POPEST18PLUS</th>\n",
       "      <th>shootings</th>\n",
       "      <th>pop_million</th>\n",
       "      <th>rate</th>\n",
       "    </tr>\n",
       "  </thead>\n",
       "  <tbody>\n",
       "    <tr>\n",
       "      <th>6</th>\n",
       "      <td>40</td>\n",
       "      <td>1</td>\n",
       "      <td>1</td>\n",
       "      <td>9</td>\n",
       "      <td>Connecticut</td>\n",
       "      <td>3590886</td>\n",
       "      <td>2826827</td>\n",
       "      <td>78.7</td>\n",
       "      <td>1</td>\n",
       "      <td>3.590886</td>\n",
       "      <td>0.278483</td>\n",
       "    </tr>\n",
       "    <tr>\n",
       "      <th>37</th>\n",
       "      <td>40</td>\n",
       "      <td>1</td>\n",
       "      <td>2</td>\n",
       "      <td>42</td>\n",
       "      <td>Pennsylvania</td>\n",
       "      <td>12802503</td>\n",
       "      <td>10112229</td>\n",
       "      <td>79.0</td>\n",
       "      <td>7</td>\n",
       "      <td>12.802503</td>\n",
       "      <td>0.546768</td>\n",
       "    </tr>\n",
       "    <tr>\n",
       "      <th>15</th>\n",
       "      <td>40</td>\n",
       "      <td>2</td>\n",
       "      <td>4</td>\n",
       "      <td>19</td>\n",
       "      <td>Iowa</td>\n",
       "      <td>3123899</td>\n",
       "      <td>2395103</td>\n",
       "      <td>76.7</td>\n",
       "      <td>2</td>\n",
       "      <td>3.123899</td>\n",
       "      <td>0.640226</td>\n",
       "    </tr>\n",
       "    <tr>\n",
       "      <th>32</th>\n",
       "      <td>40</td>\n",
       "      <td>1</td>\n",
       "      <td>2</td>\n",
       "      <td>36</td>\n",
       "      <td>New York</td>\n",
       "      <td>19795791</td>\n",
       "      <td>15584974</td>\n",
       "      <td>78.7</td>\n",
       "      <td>13</td>\n",
       "      <td>19.795791</td>\n",
       "      <td>0.656705</td>\n",
       "    </tr>\n",
       "    <tr>\n",
       "      <th>21</th>\n",
       "      <td>40</td>\n",
       "      <td>1</td>\n",
       "      <td>1</td>\n",
       "      <td>25</td>\n",
       "      <td>Massachusetts</td>\n",
       "      <td>6794422</td>\n",
       "      <td>5407335</td>\n",
       "      <td>79.6</td>\n",
       "      <td>5</td>\n",
       "      <td>6.794422</td>\n",
       "      <td>0.735898</td>\n",
       "    </tr>\n",
       "    <tr>\n",
       "      <th>29</th>\n",
       "      <td>40</td>\n",
       "      <td>1</td>\n",
       "      <td>1</td>\n",
       "      <td>33</td>\n",
       "      <td>New Hampshire</td>\n",
       "      <td>1330608</td>\n",
       "      <td>1066610</td>\n",
       "      <td>80.2</td>\n",
       "      <td>1</td>\n",
       "      <td>1.330608</td>\n",
       "      <td>0.751536</td>\n",
       "    </tr>\n",
       "    <tr>\n",
       "      <th>19</th>\n",
       "      <td>40</td>\n",
       "      <td>1</td>\n",
       "      <td>1</td>\n",
       "      <td>23</td>\n",
       "      <td>Maine</td>\n",
       "      <td>1329328</td>\n",
       "      <td>1072948</td>\n",
       "      <td>80.7</td>\n",
       "      <td>1</td>\n",
       "      <td>1.329328</td>\n",
       "      <td>0.752260</td>\n",
       "    </tr>\n",
       "    <tr>\n",
       "      <th>13</th>\n",
       "      <td>40</td>\n",
       "      <td>2</td>\n",
       "      <td>3</td>\n",
       "      <td>17</td>\n",
       "      <td>Illinois</td>\n",
       "      <td>12859995</td>\n",
       "      <td>9901322</td>\n",
       "      <td>77.0</td>\n",
       "      <td>11</td>\n",
       "      <td>12.859995</td>\n",
       "      <td>0.855366</td>\n",
       "    </tr>\n",
       "    <tr>\n",
       "      <th>34</th>\n",
       "      <td>40</td>\n",
       "      <td>2</td>\n",
       "      <td>3</td>\n",
       "      <td>39</td>\n",
       "      <td>Ohio</td>\n",
       "      <td>11613423</td>\n",
       "      <td>8984946</td>\n",
       "      <td>77.4</td>\n",
       "      <td>10</td>\n",
       "      <td>11.613423</td>\n",
       "      <td>0.861073</td>\n",
       "    </tr>\n",
       "    <tr>\n",
       "      <th>45</th>\n",
       "      <td>40</td>\n",
       "      <td>2</td>\n",
       "      <td>3</td>\n",
       "      <td>55</td>\n",
       "      <td>Wisconsin</td>\n",
       "      <td>5771337</td>\n",
       "      <td>4476711</td>\n",
       "      <td>77.6</td>\n",
       "      <td>5</td>\n",
       "      <td>5.771337</td>\n",
       "      <td>0.866350</td>\n",
       "    </tr>\n",
       "    <tr>\n",
       "      <th>22</th>\n",
       "      <td>40</td>\n",
       "      <td>2</td>\n",
       "      <td>3</td>\n",
       "      <td>26</td>\n",
       "      <td>Michigan</td>\n",
       "      <td>9922576</td>\n",
       "      <td>7715272</td>\n",
       "      <td>77.8</td>\n",
       "      <td>9</td>\n",
       "      <td>9.922576</td>\n",
       "      <td>0.907023</td>\n",
       "    </tr>\n",
       "    <tr>\n",
       "      <th>39</th>\n",
       "      <td>40</td>\n",
       "      <td>3</td>\n",
       "      <td>6</td>\n",
       "      <td>47</td>\n",
       "      <td>Tennessee</td>\n",
       "      <td>6600299</td>\n",
       "      <td>5102688</td>\n",
       "      <td>77.3</td>\n",
       "      <td>6</td>\n",
       "      <td>6.600299</td>\n",
       "      <td>0.909050</td>\n",
       "    </tr>\n",
       "    <tr>\n",
       "      <th>33</th>\n",
       "      <td>40</td>\n",
       "      <td>3</td>\n",
       "      <td>5</td>\n",
       "      <td>37</td>\n",
       "      <td>North Carolina</td>\n",
       "      <td>10042802</td>\n",
       "      <td>7752234</td>\n",
       "      <td>77.2</td>\n",
       "      <td>10</td>\n",
       "      <td>10.042802</td>\n",
       "      <td>0.995738</td>\n",
       "    </tr>\n",
       "    <tr>\n",
       "      <th>28</th>\n",
       "      <td>40</td>\n",
       "      <td>4</td>\n",
       "      <td>8</td>\n",
       "      <td>32</td>\n",
       "      <td>Nevada</td>\n",
       "      <td>2890845</td>\n",
       "      <td>2221681</td>\n",
       "      <td>76.9</td>\n",
       "      <td>3</td>\n",
       "      <td>2.890845</td>\n",
       "      <td>1.037759</td>\n",
       "    </tr>\n",
       "    <tr>\n",
       "      <th>42</th>\n",
       "      <td>40</td>\n",
       "      <td>3</td>\n",
       "      <td>5</td>\n",
       "      <td>51</td>\n",
       "      <td>Virginia</td>\n",
       "      <td>8382993</td>\n",
       "      <td>6512571</td>\n",
       "      <td>77.7</td>\n",
       "      <td>9</td>\n",
       "      <td>8.382993</td>\n",
       "      <td>1.073602</td>\n",
       "    </tr>\n",
       "    <tr>\n",
       "      <th>44</th>\n",
       "      <td>40</td>\n",
       "      <td>3</td>\n",
       "      <td>5</td>\n",
       "      <td>54</td>\n",
       "      <td>West Virginia</td>\n",
       "      <td>1844128</td>\n",
       "      <td>1464532</td>\n",
       "      <td>79.4</td>\n",
       "      <td>2</td>\n",
       "      <td>1.844128</td>\n",
       "      <td>1.084523</td>\n",
       "    </tr>\n",
       "    <tr>\n",
       "      <th>23</th>\n",
       "      <td>40</td>\n",
       "      <td>2</td>\n",
       "      <td>4</td>\n",
       "      <td>27</td>\n",
       "      <td>Minnesota</td>\n",
       "      <td>5489594</td>\n",
       "      <td>4205207</td>\n",
       "      <td>76.6</td>\n",
       "      <td>6</td>\n",
       "      <td>5.489594</td>\n",
       "      <td>1.092977</td>\n",
       "    </tr>\n",
       "    <tr>\n",
       "      <th>14</th>\n",
       "      <td>40</td>\n",
       "      <td>2</td>\n",
       "      <td>3</td>\n",
       "      <td>18</td>\n",
       "      <td>Indiana</td>\n",
       "      <td>6619680</td>\n",
       "      <td>5040224</td>\n",
       "      <td>76.1</td>\n",
       "      <td>8</td>\n",
       "      <td>6.619680</td>\n",
       "      <td>1.208518</td>\n",
       "    </tr>\n",
       "    <tr>\n",
       "      <th>30</th>\n",
       "      <td>40</td>\n",
       "      <td>1</td>\n",
       "      <td>2</td>\n",
       "      <td>34</td>\n",
       "      <td>New Jersey</td>\n",
       "      <td>8958013</td>\n",
       "      <td>6959192</td>\n",
       "      <td>77.7</td>\n",
       "      <td>11</td>\n",
       "      <td>8.958013</td>\n",
       "      <td>1.227951</td>\n",
       "    </tr>\n",
       "    <tr>\n",
       "      <th>3</th>\n",
       "      <td>40</td>\n",
       "      <td>3</td>\n",
       "      <td>7</td>\n",
       "      <td>5</td>\n",
       "      <td>Arkansas</td>\n",
       "      <td>2978204</td>\n",
       "      <td>2272904</td>\n",
       "      <td>76.3</td>\n",
       "      <td>4</td>\n",
       "      <td>2.978204</td>\n",
       "      <td>1.343091</td>\n",
       "    </tr>\n",
       "    <tr>\n",
       "      <th>9</th>\n",
       "      <td>40</td>\n",
       "      <td>3</td>\n",
       "      <td>5</td>\n",
       "      <td>12</td>\n",
       "      <td>Florida</td>\n",
       "      <td>20271272</td>\n",
       "      <td>16166143</td>\n",
       "      <td>79.7</td>\n",
       "      <td>29</td>\n",
       "      <td>20.271272</td>\n",
       "      <td>1.430596</td>\n",
       "    </tr>\n",
       "    <tr>\n",
       "      <th>8</th>\n",
       "      <td>40</td>\n",
       "      <td>3</td>\n",
       "      <td>5</td>\n",
       "      <td>11</td>\n",
       "      <td>District of Columbia</td>\n",
       "      <td>672228</td>\n",
       "      <td>554121</td>\n",
       "      <td>82.4</td>\n",
       "      <td>1</td>\n",
       "      <td>0.672228</td>\n",
       "      <td>1.487591</td>\n",
       "    </tr>\n",
       "    <tr>\n",
       "      <th>43</th>\n",
       "      <td>40</td>\n",
       "      <td>4</td>\n",
       "      <td>9</td>\n",
       "      <td>53</td>\n",
       "      <td>Washington</td>\n",
       "      <td>7170351</td>\n",
       "      <td>5558509</td>\n",
       "      <td>77.5</td>\n",
       "      <td>11</td>\n",
       "      <td>7.170351</td>\n",
       "      <td>1.534095</td>\n",
       "    </tr>\n",
       "    <tr>\n",
       "      <th>10</th>\n",
       "      <td>40</td>\n",
       "      <td>3</td>\n",
       "      <td>5</td>\n",
       "      <td>13</td>\n",
       "      <td>Georgia</td>\n",
       "      <td>10214860</td>\n",
       "      <td>7710688</td>\n",
       "      <td>75.5</td>\n",
       "      <td>16</td>\n",
       "      <td>10.214860</td>\n",
       "      <td>1.566346</td>\n",
       "    </tr>\n",
       "    <tr>\n",
       "      <th>17</th>\n",
       "      <td>40</td>\n",
       "      <td>3</td>\n",
       "      <td>6</td>\n",
       "      <td>21</td>\n",
       "      <td>Kentucky</td>\n",
       "      <td>4425092</td>\n",
       "      <td>3413425</td>\n",
       "      <td>77.1</td>\n",
       "      <td>7</td>\n",
       "      <td>4.425092</td>\n",
       "      <td>1.581888</td>\n",
       "    </tr>\n",
       "    <tr>\n",
       "      <th>25</th>\n",
       "      <td>40</td>\n",
       "      <td>2</td>\n",
       "      <td>4</td>\n",
       "      <td>29</td>\n",
       "      <td>Missouri</td>\n",
       "      <td>6083672</td>\n",
       "      <td>4692196</td>\n",
       "      <td>77.1</td>\n",
       "      <td>10</td>\n",
       "      <td>6.083672</td>\n",
       "      <td>1.643744</td>\n",
       "    </tr>\n",
       "    <tr>\n",
       "      <th>0</th>\n",
       "      <td>40</td>\n",
       "      <td>3</td>\n",
       "      <td>6</td>\n",
       "      <td>1</td>\n",
       "      <td>Alabama</td>\n",
       "      <td>4858979</td>\n",
       "      <td>3755483</td>\n",
       "      <td>77.3</td>\n",
       "      <td>8</td>\n",
       "      <td>4.858979</td>\n",
       "      <td>1.646436</td>\n",
       "    </tr>\n",
       "    <tr>\n",
       "      <th>20</th>\n",
       "      <td>40</td>\n",
       "      <td>3</td>\n",
       "      <td>5</td>\n",
       "      <td>24</td>\n",
       "      <td>Maryland</td>\n",
       "      <td>6006401</td>\n",
       "      <td>4658175</td>\n",
       "      <td>77.6</td>\n",
       "      <td>10</td>\n",
       "      <td>6.006401</td>\n",
       "      <td>1.664891</td>\n",
       "    </tr>\n",
       "    <tr>\n",
       "      <th>41</th>\n",
       "      <td>40</td>\n",
       "      <td>4</td>\n",
       "      <td>8</td>\n",
       "      <td>49</td>\n",
       "      <td>Utah</td>\n",
       "      <td>2995919</td>\n",
       "      <td>2083423</td>\n",
       "      <td>69.5</td>\n",
       "      <td>5</td>\n",
       "      <td>2.995919</td>\n",
       "      <td>1.668937</td>\n",
       "    </tr>\n",
       "    <tr>\n",
       "      <th>46</th>\n",
       "      <td>40</td>\n",
       "      <td>4</td>\n",
       "      <td>8</td>\n",
       "      <td>56</td>\n",
       "      <td>Wyoming</td>\n",
       "      <td>586107</td>\n",
       "      <td>447212</td>\n",
       "      <td>76.3</td>\n",
       "      <td>1</td>\n",
       "      <td>0.586107</td>\n",
       "      <td>1.706173</td>\n",
       "    </tr>\n",
       "    <tr>\n",
       "      <th>40</th>\n",
       "      <td>40</td>\n",
       "      <td>3</td>\n",
       "      <td>7</td>\n",
       "      <td>48</td>\n",
       "      <td>Texas</td>\n",
       "      <td>27469114</td>\n",
       "      <td>20257343</td>\n",
       "      <td>73.7</td>\n",
       "      <td>47</td>\n",
       "      <td>27.469114</td>\n",
       "      <td>1.711013</td>\n",
       "    </tr>\n",
       "    <tr>\n",
       "      <th>38</th>\n",
       "      <td>40</td>\n",
       "      <td>3</td>\n",
       "      <td>5</td>\n",
       "      <td>45</td>\n",
       "      <td>South Carolina</td>\n",
       "      <td>4896146</td>\n",
       "      <td>3804558</td>\n",
       "      <td>77.7</td>\n",
       "      <td>9</td>\n",
       "      <td>4.896146</td>\n",
       "      <td>1.838180</td>\n",
       "    </tr>\n",
       "    <tr>\n",
       "      <th>4</th>\n",
       "      <td>40</td>\n",
       "      <td>4</td>\n",
       "      <td>9</td>\n",
       "      <td>6</td>\n",
       "      <td>California</td>\n",
       "      <td>39144818</td>\n",
       "      <td>30023902</td>\n",
       "      <td>76.7</td>\n",
       "      <td>74</td>\n",
       "      <td>39.144818</td>\n",
       "      <td>1.890416</td>\n",
       "    </tr>\n",
       "    <tr>\n",
       "      <th>26</th>\n",
       "      <td>40</td>\n",
       "      <td>4</td>\n",
       "      <td>8</td>\n",
       "      <td>30</td>\n",
       "      <td>Montana</td>\n",
       "      <td>1032949</td>\n",
       "      <td>806529</td>\n",
       "      <td>78.1</td>\n",
       "      <td>2</td>\n",
       "      <td>1.032949</td>\n",
       "      <td>1.936204</td>\n",
       "    </tr>\n",
       "    <tr>\n",
       "      <th>36</th>\n",
       "      <td>40</td>\n",
       "      <td>4</td>\n",
       "      <td>9</td>\n",
       "      <td>41</td>\n",
       "      <td>Oregon</td>\n",
       "      <td>4028977</td>\n",
       "      <td>3166121</td>\n",
       "      <td>78.6</td>\n",
       "      <td>8</td>\n",
       "      <td>4.028977</td>\n",
       "      <td>1.985616</td>\n",
       "    </tr>\n",
       "    <tr>\n",
       "      <th>24</th>\n",
       "      <td>40</td>\n",
       "      <td>3</td>\n",
       "      <td>6</td>\n",
       "      <td>28</td>\n",
       "      <td>Mississippi</td>\n",
       "      <td>2992333</td>\n",
       "      <td>2265485</td>\n",
       "      <td>75.7</td>\n",
       "      <td>6</td>\n",
       "      <td>2.992333</td>\n",
       "      <td>2.005124</td>\n",
       "    </tr>\n",
       "    <tr>\n",
       "      <th>16</th>\n",
       "      <td>40</td>\n",
       "      <td>2</td>\n",
       "      <td>4</td>\n",
       "      <td>20</td>\n",
       "      <td>Kansas</td>\n",
       "      <td>2911641</td>\n",
       "      <td>2192084</td>\n",
       "      <td>75.3</td>\n",
       "      <td>6</td>\n",
       "      <td>2.911641</td>\n",
       "      <td>2.060694</td>\n",
       "    </tr>\n",
       "    <tr>\n",
       "      <th>7</th>\n",
       "      <td>40</td>\n",
       "      <td>3</td>\n",
       "      <td>5</td>\n",
       "      <td>10</td>\n",
       "      <td>Delaware</td>\n",
       "      <td>945934</td>\n",
       "      <td>741548</td>\n",
       "      <td>78.4</td>\n",
       "      <td>2</td>\n",
       "      <td>0.945934</td>\n",
       "      <td>2.114312</td>\n",
       "    </tr>\n",
       "    <tr>\n",
       "      <th>5</th>\n",
       "      <td>40</td>\n",
       "      <td>4</td>\n",
       "      <td>8</td>\n",
       "      <td>8</td>\n",
       "      <td>Colorado</td>\n",
       "      <td>5456574</td>\n",
       "      <td>4199509</td>\n",
       "      <td>77.0</td>\n",
       "      <td>12</td>\n",
       "      <td>5.456574</td>\n",
       "      <td>2.199182</td>\n",
       "    </tr>\n",
       "    <tr>\n",
       "      <th>18</th>\n",
       "      <td>40</td>\n",
       "      <td>3</td>\n",
       "      <td>7</td>\n",
       "      <td>22</td>\n",
       "      <td>Louisiana</td>\n",
       "      <td>4670724</td>\n",
       "      <td>3555911</td>\n",
       "      <td>76.1</td>\n",
       "      <td>11</td>\n",
       "      <td>4.670724</td>\n",
       "      <td>2.355095</td>\n",
       "    </tr>\n",
       "    <tr>\n",
       "      <th>31</th>\n",
       "      <td>40</td>\n",
       "      <td>4</td>\n",
       "      <td>8</td>\n",
       "      <td>35</td>\n",
       "      <td>New Mexico</td>\n",
       "      <td>2085109</td>\n",
       "      <td>1588201</td>\n",
       "      <td>76.2</td>\n",
       "      <td>5</td>\n",
       "      <td>2.085109</td>\n",
       "      <td>2.397956</td>\n",
       "    </tr>\n",
       "    <tr>\n",
       "      <th>12</th>\n",
       "      <td>40</td>\n",
       "      <td>4</td>\n",
       "      <td>8</td>\n",
       "      <td>16</td>\n",
       "      <td>Idaho</td>\n",
       "      <td>1654930</td>\n",
       "      <td>1222093</td>\n",
       "      <td>73.8</td>\n",
       "      <td>4</td>\n",
       "      <td>1.654930</td>\n",
       "      <td>2.417021</td>\n",
       "    </tr>\n",
       "    <tr>\n",
       "      <th>1</th>\n",
       "      <td>40</td>\n",
       "      <td>4</td>\n",
       "      <td>9</td>\n",
       "      <td>2</td>\n",
       "      <td>Alaska</td>\n",
       "      <td>738432</td>\n",
       "      <td>552166</td>\n",
       "      <td>74.8</td>\n",
       "      <td>2</td>\n",
       "      <td>0.738432</td>\n",
       "      <td>2.708442</td>\n",
       "    </tr>\n",
       "    <tr>\n",
       "      <th>11</th>\n",
       "      <td>40</td>\n",
       "      <td>4</td>\n",
       "      <td>9</td>\n",
       "      <td>15</td>\n",
       "      <td>Hawaii</td>\n",
       "      <td>1431603</td>\n",
       "      <td>1120770</td>\n",
       "      <td>78.3</td>\n",
       "      <td>4</td>\n",
       "      <td>1.431603</td>\n",
       "      <td>2.794071</td>\n",
       "    </tr>\n",
       "    <tr>\n",
       "      <th>27</th>\n",
       "      <td>40</td>\n",
       "      <td>2</td>\n",
       "      <td>4</td>\n",
       "      <td>31</td>\n",
       "      <td>Nebraska</td>\n",
       "      <td>1896190</td>\n",
       "      <td>1425853</td>\n",
       "      <td>75.2</td>\n",
       "      <td>6</td>\n",
       "      <td>1.896190</td>\n",
       "      <td>3.164240</td>\n",
       "    </tr>\n",
       "    <tr>\n",
       "      <th>2</th>\n",
       "      <td>40</td>\n",
       "      <td>4</td>\n",
       "      <td>8</td>\n",
       "      <td>4</td>\n",
       "      <td>Arizona</td>\n",
       "      <td>6828065</td>\n",
       "      <td>5205215</td>\n",
       "      <td>76.2</td>\n",
       "      <td>25</td>\n",
       "      <td>6.828065</td>\n",
       "      <td>3.661359</td>\n",
       "    </tr>\n",
       "    <tr>\n",
       "      <th>35</th>\n",
       "      <td>40</td>\n",
       "      <td>3</td>\n",
       "      <td>7</td>\n",
       "      <td>40</td>\n",
       "      <td>Oklahoma</td>\n",
       "      <td>3911338</td>\n",
       "      <td>2950017</td>\n",
       "      <td>75.4</td>\n",
       "      <td>22</td>\n",
       "      <td>3.911338</td>\n",
       "      <td>5.624674</td>\n",
       "    </tr>\n",
       "  </tbody>\n",
       "</table>\n",
       "</div>"
      ],
      "text/plain": [
       "    SUMLEV REGION DIVISION  STATE                  NAME  POPESTIMATE2015  \\\n",
       "6       40      1        1      9           Connecticut          3590886   \n",
       "37      40      1        2     42          Pennsylvania         12802503   \n",
       "15      40      2        4     19                  Iowa          3123899   \n",
       "32      40      1        2     36              New York         19795791   \n",
       "21      40      1        1     25         Massachusetts          6794422   \n",
       "29      40      1        1     33         New Hampshire          1330608   \n",
       "19      40      1        1     23                 Maine          1329328   \n",
       "13      40      2        3     17              Illinois         12859995   \n",
       "34      40      2        3     39                  Ohio         11613423   \n",
       "45      40      2        3     55             Wisconsin          5771337   \n",
       "22      40      2        3     26              Michigan          9922576   \n",
       "39      40      3        6     47             Tennessee          6600299   \n",
       "33      40      3        5     37        North Carolina         10042802   \n",
       "28      40      4        8     32                Nevada          2890845   \n",
       "42      40      3        5     51              Virginia          8382993   \n",
       "44      40      3        5     54         West Virginia          1844128   \n",
       "23      40      2        4     27             Minnesota          5489594   \n",
       "14      40      2        3     18               Indiana          6619680   \n",
       "30      40      1        2     34            New Jersey          8958013   \n",
       "3       40      3        7      5              Arkansas          2978204   \n",
       "9       40      3        5     12               Florida         20271272   \n",
       "8       40      3        5     11  District of Columbia           672228   \n",
       "43      40      4        9     53            Washington          7170351   \n",
       "10      40      3        5     13               Georgia         10214860   \n",
       "17      40      3        6     21              Kentucky          4425092   \n",
       "25      40      2        4     29              Missouri          6083672   \n",
       "0       40      3        6      1               Alabama          4858979   \n",
       "20      40      3        5     24              Maryland          6006401   \n",
       "41      40      4        8     49                  Utah          2995919   \n",
       "46      40      4        8     56               Wyoming           586107   \n",
       "40      40      3        7     48                 Texas         27469114   \n",
       "38      40      3        5     45        South Carolina          4896146   \n",
       "4       40      4        9      6            California         39144818   \n",
       "26      40      4        8     30               Montana          1032949   \n",
       "36      40      4        9     41                Oregon          4028977   \n",
       "24      40      3        6     28           Mississippi          2992333   \n",
       "16      40      2        4     20                Kansas          2911641   \n",
       "7       40      3        5     10              Delaware           945934   \n",
       "5       40      4        8      8              Colorado          5456574   \n",
       "18      40      3        7     22             Louisiana          4670724   \n",
       "31      40      4        8     35            New Mexico          2085109   \n",
       "12      40      4        8     16                 Idaho          1654930   \n",
       "1       40      4        9      2                Alaska           738432   \n",
       "11      40      4        9     15                Hawaii          1431603   \n",
       "27      40      2        4     31              Nebraska          1896190   \n",
       "2       40      4        8      4               Arizona          6828065   \n",
       "35      40      3        7     40              Oklahoma          3911338   \n",
       "\n",
       "    POPEST18PLUS2015  PCNT_POPEST18PLUS  shootings  pop_million      rate  \n",
       "6            2826827               78.7          1     3.590886  0.278483  \n",
       "37          10112229               79.0          7    12.802503  0.546768  \n",
       "15           2395103               76.7          2     3.123899  0.640226  \n",
       "32          15584974               78.7         13    19.795791  0.656705  \n",
       "21           5407335               79.6          5     6.794422  0.735898  \n",
       "29           1066610               80.2          1     1.330608  0.751536  \n",
       "19           1072948               80.7          1     1.329328  0.752260  \n",
       "13           9901322               77.0         11    12.859995  0.855366  \n",
       "34           8984946               77.4         10    11.613423  0.861073  \n",
       "45           4476711               77.6          5     5.771337  0.866350  \n",
       "22           7715272               77.8          9     9.922576  0.907023  \n",
       "39           5102688               77.3          6     6.600299  0.909050  \n",
       "33           7752234               77.2         10    10.042802  0.995738  \n",
       "28           2221681               76.9          3     2.890845  1.037759  \n",
       "42           6512571               77.7          9     8.382993  1.073602  \n",
       "44           1464532               79.4          2     1.844128  1.084523  \n",
       "23           4205207               76.6          6     5.489594  1.092977  \n",
       "14           5040224               76.1          8     6.619680  1.208518  \n",
       "30           6959192               77.7         11     8.958013  1.227951  \n",
       "3            2272904               76.3          4     2.978204  1.343091  \n",
       "9           16166143               79.7         29    20.271272  1.430596  \n",
       "8             554121               82.4          1     0.672228  1.487591  \n",
       "43           5558509               77.5         11     7.170351  1.534095  \n",
       "10           7710688               75.5         16    10.214860  1.566346  \n",
       "17           3413425               77.1          7     4.425092  1.581888  \n",
       "25           4692196               77.1         10     6.083672  1.643744  \n",
       "0            3755483               77.3          8     4.858979  1.646436  \n",
       "20           4658175               77.6         10     6.006401  1.664891  \n",
       "41           2083423               69.5          5     2.995919  1.668937  \n",
       "46            447212               76.3          1     0.586107  1.706173  \n",
       "40          20257343               73.7         47    27.469114  1.711013  \n",
       "38           3804558               77.7          9     4.896146  1.838180  \n",
       "4           30023902               76.7         74    39.144818  1.890416  \n",
       "26            806529               78.1          2     1.032949  1.936204  \n",
       "36           3166121               78.6          8     4.028977  1.985616  \n",
       "24           2265485               75.7          6     2.992333  2.005124  \n",
       "16           2192084               75.3          6     2.911641  2.060694  \n",
       "7             741548               78.4          2     0.945934  2.114312  \n",
       "5            4199509               77.0         12     5.456574  2.199182  \n",
       "18           3555911               76.1         11     4.670724  2.355095  \n",
       "31           1588201               76.2          5     2.085109  2.397956  \n",
       "12           1222093               73.8          4     1.654930  2.417021  \n",
       "1             552166               74.8          2     0.738432  2.708442  \n",
       "11           1120770               78.3          4     1.431603  2.794071  \n",
       "27           1425853               75.2          6     1.896190  3.164240  \n",
       "2            5205215               76.2         25     6.828065  3.661359  \n",
       "35           2950017               75.4         22     3.911338  5.624674  "
      ]
     },
     "execution_count": 20,
     "metadata": {},
     "output_type": "execute_result"
    }
   ],
   "source": [
    "direct = pd.DataFrame({\"Name\":states['NAME'], \"Ratio\": states['rate']})\n",
    "states.sort(columns = 'rate')"
   ]
  },
  {
   "cell_type": "markdown",
   "metadata": {},
   "source": [
    "We observe east coasts states tend to have a lower death rate, while west coast states have a higher rate. "
   ]
  },
  {
   "cell_type": "code",
   "execution_count": 30,
   "metadata": {
    "collapsed": false
   },
   "outputs": [
    {
     "name": "stderr",
     "output_type": "stream",
     "text": [
      "/Users/allenlu/anaconda/lib/python2.7/site-packages/ipykernel/__main__.py:6: SettingWithCopyWarning: \n",
      "A value is trying to be set on a copy of a slice from a DataFrame.\n",
      "Try using .loc[row_indexer,col_indexer] = value instead\n",
      "\n",
      "See the caveats in the documentation: http://pandas.pydata.org/pandas-docs/stable/indexing.html#indexing-view-versus-copy\n",
      "/Users/allenlu/anaconda/lib/python2.7/site-packages/ipykernel/__main__.py:7: SettingWithCopyWarning: \n",
      "A value is trying to be set on a copy of a slice from a DataFrame.\n",
      "Try using .loc[row_indexer,col_indexer] = value instead\n",
      "\n",
      "See the caveats in the documentation: http://pandas.pydata.org/pandas-docs/stable/indexing.html#indexing-view-versus-copy\n",
      "/Users/allenlu/anaconda/lib/python2.7/site-packages/ipykernel/__main__.py:8: SettingWithCopyWarning: \n",
      "A value is trying to be set on a copy of a slice from a DataFrame.\n",
      "Try using .loc[row_indexer,col_indexer] = value instead\n",
      "\n",
      "See the caveats in the documentation: http://pandas.pydata.org/pandas-docs/stable/indexing.html#indexing-view-versus-copy\n"
     ]
    }
   ],
   "source": [
    "pk = police_killings[\n",
    "    (police_killings[\"share_white\"] != \"-\") & \n",
    "    (police_killings[\"share_black\"] != \"-\") & \n",
    "    (police_killings[\"share_hispanic\"] != \"-\")\n",
    "]\n",
    "pk['share_white'] = pk['share_white'].astype(float)\n",
    "pk['share_black'] = pk['share_black'].astype(float)\n",
    "pk['share_hispanic'] = pk['share_hispanic'].astype(float)\n",
    "\n"
   ]
  },
  {
   "cell_type": "code",
   "execution_count": 34,
   "metadata": {
    "collapsed": false
   },
   "outputs": [],
   "source": [
    "lowest_states = [\"CT\", \"PA\", \"IA\", \"NY\", \"MA\", \"NH\", \"ME\", \"IL\", \"OH\", \"WI\"]\n",
    "highest_states = [\"OK\", \"AZ\", \"NE\", \"HI\", \"AK\", \"ID\", \"NM\", \"LA\", \"CO\", \"DE\"]\n",
    "ls = pk[pk['state'].isin(lowest_states)]\n",
    "hs = pk[pk['state'].isin(highest_states)]"
   ]
  },
  {
   "cell_type": "code",
   "execution_count": 35,
   "metadata": {
    "collapsed": false
   },
   "outputs": [
    {
     "data": {
      "text/plain": [
       "pop                4201.660714\n",
       "county_income     54830.839286\n",
       "share_white          60.616071\n",
       "share_black          21.257143\n",
       "share_hispanic       12.948214\n",
       "dtype: float64"
      ]
     },
     "execution_count": 35,
     "metadata": {},
     "output_type": "execute_result"
    }
   ],
   "source": [
    "columns = [\"pop\", \"county_income\", \"share_white\", \"share_black\", \"share_hispanic\"]\n",
    "\n",
    "ls[columns].mean()"
   ]
  },
  {
   "cell_type": "code",
   "execution_count": 36,
   "metadata": {
    "collapsed": false
   },
   "outputs": [
    {
     "data": {
      "text/plain": [
       "pop                4315.750000\n",
       "county_income     48706.967391\n",
       "share_white          55.652174\n",
       "share_black          11.532609\n",
       "share_hispanic       20.693478\n",
       "dtype: float64"
      ]
     },
     "execution_count": 36,
     "metadata": {},
     "output_type": "execute_result"
    }
   ],
   "source": [
    "hs[columns].mean()\n"
   ]
  },
  {
   "cell_type": "markdown",
   "metadata": {},
   "source": [
    "It seems states with higher rate of shooting have more hispanics, while states with lower rate of shooting has lower african americans"
   ]
  }
 ],
 "metadata": {
  "kernelspec": {
   "display_name": "Python 2",
   "language": "python",
   "name": "python2"
  },
  "language_info": {
   "codemirror_mode": {
    "name": "ipython",
    "version": 2
   },
   "file_extension": ".py",
   "mimetype": "text/x-python",
   "name": "python",
   "nbconvert_exporter": "python",
   "pygments_lexer": "ipython2",
   "version": "2.7.11"
  }
 },
 "nbformat": 4,
 "nbformat_minor": 0
}
